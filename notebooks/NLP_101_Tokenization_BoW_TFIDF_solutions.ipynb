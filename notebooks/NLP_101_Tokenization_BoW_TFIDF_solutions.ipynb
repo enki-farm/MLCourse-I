{
 "cells": [
  {
   "cell_type": "markdown",
   "id": "15c01dcf",
   "metadata": {},
   "source": [
    "# 🧠 NLP 101 for Programmers\n",
    "\n",
    "## Featuring The Hitchhiker’s Guide to the Galaxy\n",
    "### ⏱️ Duration: ~30 minutes\n",
    "### 🛠️ Requirements: Python 3, Jupyter Notebook or any Python IDE, nltk, scikit-learn"
   ]
  },
  {
   "cell_type": "markdown",
   "id": "62ba0057",
   "metadata": {},
   "source": [
    "### 🗂️ Overview\n",
    "\n",
    "Welcome to your first dive into NLP! In this tutorial, we’ll explore how machines process and understand text. We’ll start with:\n",
    "- Tokenization – breaking down text into individual units\n",
    "- Bag of Words (BoW) – a simple representation of text\n",
    "- TF-IDF – identifying important words in context\n",
    "\n",
    "You'll work on short excerpts from The Hitchhiker’s Guide to the Galaxy and complete three exercises along the way."
   ]
  },
  {
   "cell_type": "markdown",
   "id": "7f1a2cd3",
   "metadata": {},
   "source": [
    "## 📦 Setup"
   ]
  },
  {
   "cell_type": "code",
   "execution_count": null,
   "id": "2519f824",
   "metadata": {},
   "outputs": [],
   "source": [
    "import nltk\n",
    "\n",
    "import pandas as pd\n",
    "\n",
    "import matplotlib.pyplot as plt\n",
    "import seaborn as sns\n",
    "\n",
    "nltk.download('punkt')\n",
    "nltk.download('punkt_tab')\n",
    "nltk.download('stopwords')\n",
    "nltk.download(\"wordnet\")"
   ]
  },
  {
   "cell_type": "markdown",
   "id": "4041ec87",
   "metadata": {},
   "source": [
    "## 🧪 Exercise 1: Tokenization\n",
    "\n",
    "**Goal:** Break a passage into tokens and print english stopwords\n",
    "\n",
    "**Optional:** Preprocess it to remove punctuation, numbers and stopwords\n",
    "\n",
    "**Super Optional:** Visualize the result with a bar plot\n",
    "\n",
    "### 📖 Sample Text:"
   ]
  },
  {
   "cell_type": "code",
   "execution_count": null,
   "id": "3e080929",
   "metadata": {},
   "outputs": [],
   "source": [
    "text = \"\"\"Far out in the uncharted backwaters of the unfashionable end of the western spiral arm of the Galaxy lies \n",
    "a small unregarded yellow sun.\"\"\""
   ]
  },
  {
   "cell_type": "markdown",
   "id": "35dab795",
   "metadata": {},
   "source": [
    "### 🧰 Tools:\n",
    "\n",
    "`word_tokenize` from `nltk.tokenize`\n",
    "\n",
    "`Counter` from `collections`\n",
    "\n",
    "### 💻 Task:\n",
    "- Print english stopwords.\n",
    "- Tokenize the above text.\n",
    "- Count the number of unique tokens.\n",
    "- Print the top 5 most frequent tokens.\n",
    "\n",
    "### ✅ Expected Output (example):\n",
    "\n",
    "```python\n",
    "Tokens: ['Far', 'out', 'in', 'the', 'uncharted', 'backwaters', ...]\n",
    "Unique tokens: 19\n",
    "Most frequent: [('the', 3), ('of', 2), ('Far', 1), ...]\n",
    "\n",
    "{'to', \"don't\", 'd', 'having'...\n",
    "```"
   ]
  },
  {
   "cell_type": "code",
   "execution_count": null,
   "id": "8b998d61-8a3e-46ce-9fba-c37b68bade66",
   "metadata": {},
   "outputs": [],
   "source": [
    "# your code goes here"
   ]
  },
  {
   "cell_type": "markdown",
   "id": "2cde32fe",
   "metadata": {},
   "source": [
    "### 📖 Solution"
   ]
  },
  {
   "cell_type": "code",
   "execution_count": null,
   "id": "4b37a24f-c41f-481e-9295-e7382250ac30",
   "metadata": {},
   "outputs": [],
   "source": [
    "from nltk.tokenize import word_tokenize\n",
    "from nltk.corpus import stopwords\n",
    "from collections import Counter\n",
    "\n",
    "tokens = word_tokenize(text.lower())\n",
    "freq_dist = Counter(tokens)\n",
    "\n",
    "print(f\"Tokens: {tokens}\")\n",
    "print(f\"Unique tokens: {len(set(tokens))}\")\n",
    "print(f\"Most frequent: {freq_dist.most_common(3)}\")\n",
    "\n",
    "stops = set(stopwords.words('english'))\n",
    "print(stops)"
   ]
  },
  {
   "cell_type": "code",
   "execution_count": null,
   "id": "5e961c68-893b-42c0-bf88-1bbac68ed6fc",
   "metadata": {},
   "outputs": [],
   "source": [
    "from nltk.corpus import stopwords\n",
    "from nltk.stem import PorterStemmer\n",
    "from nltk.stem import WordNetLemmatizer\n",
    "\n",
    "ps = PorterStemmer()\n",
    "wnl = WordNetLemmatizer()\n",
    "\n",
    "# Preprocessing function\n",
    "def preprocess(text):\n",
    "    tokens = word_tokenize(text.lower())\n",
    "    tokens = [t for t in tokens if t.isalpha()]  # remove punctuation/numbers\n",
    "    tokens = [t for t in tokens if t not in stopwords.words('english')]  # remove stopwords\n",
    "    tokens = [wnl.lemmatize(t) for t in tokens] # lemma\n",
    "    tokens = [ps.stem(t) for t in tokens] # stem\n",
    "    return tokens\n",
    "\n",
    "tokens = preprocess(text)\n",
    "freq_dist = Counter(tokens)\n",
    "\n",
    "print(f\"Tokens: {tokens}\")\n",
    "print(f\"Unique tokens: {len(set(tokens))}\")\n",
    "print(f\"Most frequent: {freq_dist.most_common(3)}\")"
   ]
  },
  {
   "cell_type": "code",
   "execution_count": null,
   "id": "a71e3346",
   "metadata": {},
   "outputs": [],
   "source": [
    "tokens = word_tokenize(text.lower())\n",
    "freq_dist = Counter(tokens)\n",
    "most_common = freq_dist.most_common(5)\n",
    "words, counts = zip(*most_common)\n",
    "sns.barplot(x=list(words), y=list(counts))\n",
    "plt.title(\"Top 5 Words in Sample Text\")\n",
    "plt.xticks(rotation=45)\n",
    "plt.show()"
   ]
  },
  {
   "cell_type": "markdown",
   "id": "a1680132",
   "metadata": {},
   "source": [
    "## 🧪 Exercise 2: Bag of Words\n",
    "\n",
    "**Goal:** Represent text as a word-count vector\n",
    "\n",
    "**Optional:** Visualize the result with a heatmap\n",
    "\n",
    "### 📖 Sample Text:"
   ]
  },
  {
   "cell_type": "code",
   "execution_count": null,
   "id": "b526a2f4-6eb3-44e8-a395-597b7ecdc188",
   "metadata": {},
   "outputs": [],
   "source": [
    "docs = [\n",
    "    \"The ships hung in the sky in much the same way that bricks don’t.\",\n",
    "    \"Time is an illusion. Lunchtime doubly so.\",\n",
    "    \"The Answer to the Great Question... Of Life, the Universe and Everything... Is... Forty-two.\",\n",
    "    \"It was a  particular  type  of  rain  he  particularly  disliked, particularly  when he was driving. He had a number for it. It was rain type 17.\",\n",
    "    \"He blinked, and understood nothing.\"\n",
    "]"
   ]
  },
  {
   "cell_type": "markdown",
   "id": "755c25b8-5643-4db9-8fc0-8822a52e2879",
   "metadata": {},
   "source": [
    "### 🧰 Tools:\n",
    "\n",
    "`CountVectorizer` from `sklearn.feature_extraction.text`\n",
    "\n",
    "### 💻 Task:\n",
    "- Convert the 5 texts into a Bag of Words representation.\n",
    "- Print the vocabulary.\n",
    "- Print the count matrix as a DataFrame for readability.\n",
    "\n",
    "### ✅ Expected Output (example):\n",
    "\n",
    "```python\n",
    "Vocabulary: ['answer', 'bricks', 'don’t', 'everything', ...]\n",
    "BoW Matrix:\n",
    "|        | answer | bricks | don’t | everything | ... |\n",
    "|--------|--------|--------|-------|------------|-----|\n",
    "| Text 1 | 0      | 1      | 1     | 0          | ... |\n",
    "| Text 2 | 0      | 0      | 0     | 0          | ... |\n",
    "| Text 3 | 1      | 0      | 0     | 1          | ... |\n",
    "```"
   ]
  },
  {
   "cell_type": "code",
   "execution_count": null,
   "id": "dcddb9f8-0093-4456-a444-1004ecd3b3a7",
   "metadata": {},
   "outputs": [],
   "source": [
    "# your code goes here"
   ]
  },
  {
   "cell_type": "markdown",
   "id": "f3ed9d43-ad0e-4c0f-b29a-96be001271d2",
   "metadata": {},
   "source": [
    "### 📖 Solution"
   ]
  },
  {
   "cell_type": "code",
   "execution_count": null,
   "id": "194d6d94-796e-4716-9b6d-06820438b067",
   "metadata": {},
   "outputs": [],
   "source": [
    "from sklearn.feature_extraction.text import CountVectorizer\n",
    "\n",
    "# Initialize vectorizer\n",
    "vectorizer = CountVectorizer(stop_words='english')\n",
    "bow = vectorizer.fit_transform(docs)\n",
    "\n",
    "df_bow = pd.DataFrame(bow.toarray(), columns=vectorizer.get_feature_names_out())\n",
    "\n",
    "print(\"Vocabulary:\", vectorizer.get_feature_names_out())\n",
    "print(\"BoW Matrix:\\n\", df_bow)"
   ]
  },
  {
   "cell_type": "code",
   "execution_count": null,
   "id": "d111f1d4",
   "metadata": {},
   "outputs": [],
   "source": [
    "sns.heatmap(df_bow, annot=True, cmap=\"YlGnBu\", cbar=False)\n",
    "plt.title(\"Bag of Words Matrix\")\n",
    "plt.xlabel(\"Words\")\n",
    "plt.ylabel(\"Text Index\")\n",
    "plt.show()"
   ]
  },
  {
   "cell_type": "markdown",
   "id": "7c6436b3",
   "metadata": {},
   "source": [
    "## 🧪 Exercise 3: TF-IDF\n",
    "\n",
    "**Goal:** Identify the most meaningful words in each sentence\n",
    "\n",
    "### 🧰 Tools:\n",
    "\n",
    "`TfidfVectorizer` from `sklearn.feature_extraction.text`\n",
    "\n",
    "### 💻 Task:\n",
    "- Convert the same texts into TF-IDF vectors.\n",
    "- Print the resulting matrix as a DataFrame.\n",
    "- Highlight the top 3 words with the highest TF-IDF scores per text.\n",
    "\n",
    "### ✅ Expected Output (example):\n",
    "\n",
    "```python\n",
    "TF-IDF Matrix:\n",
    "|        | answer | bricks | don’t | everything | ... |\n",
    "|--------|--------|--------|-------|------------|-----|\n",
    "| Text 1 | 0.0    | 0.707  | 0.707 | 0.0        | ... |\n",
    "| Text 2 | 0.0    | 0.0    | 0.0   | 0.0        | ... |\n",
    "| Text 3 | 0.5    | 0.0    | 0.0   | 0.5        | ... |\n",
    "\n",
    "Top words:\n",
    "- Text 1: bricks, don’t, sky\n",
    "- Text 2: illusion, lunchtime, doubly\n",
    "- Text 3: answer, everything, universe\n",
    "```"
   ]
  },
  {
   "cell_type": "markdown",
   "id": "1263cc4e-e140-482c-bd6f-1552a64def97",
   "metadata": {},
   "source": [
    "### 📖 Solution"
   ]
  },
  {
   "cell_type": "code",
   "execution_count": null,
   "id": "6e3b2ef0-d55f-40f1-bce4-9138a739d16c",
   "metadata": {},
   "outputs": [],
   "source": [
    "from sklearn.feature_extraction.text import TfidfVectorizer\n",
    "\n",
    "# Initialize TF-IDF vectorizer\n",
    "tfidf_vectorizer = TfidfVectorizer(stop_words='english')\n",
    "tfidf = tfidf_vectorizer.fit_transform(docs)\n",
    "df_tfidf = pd.DataFrame(tfidf.toarray(), columns=tfidf_vectorizer.get_feature_names_out())\n",
    "\n",
    "print(\"Vocabulary:\", tfidf_vectorizer.get_feature_names_out())\n",
    "print(\"TF-IDF Matrix:\\n\", df_tfidf)\n"
   ]
  },
  {
   "cell_type": "code",
   "execution_count": null,
   "id": "705d2b49",
   "metadata": {},
   "outputs": [],
   "source": [
    "sns.heatmap(df_tfidf, annot=False, cmap=\"coolwarm\", linewidths=0.5)\n",
    "plt.title(\"TF-IDF Scores per Word\")\n",
    "plt.xlabel(\"Words\")\n",
    "plt.ylabel(\"Text Index\")\n",
    "plt.show()"
   ]
  },
  {
   "cell_type": "markdown",
   "id": "4cada0c5-0545-43c1-9c64-c152c093ff1a",
   "metadata": {},
   "source": [
    "## 🧪 Exercise 4: Word-Level Distance Comparisons\n",
    "\n",
    "**Goal:** Explore how close or far apart individual words are based on the vector space created during tokenization.\n",
    "\n",
    "**Optional:** Implement a simple k-Nearest Neighbours\n",
    "\n",
    "### 🧰 Tools:\n",
    "\n",
    "`cosine_similarity` (or any other) from `sklearn.metrics.pairwise`\n",
    "\n",
    "\n",
    "### 💻 Task:\n",
    "- Select two words from the dictionary\n",
    "- Calculate the distance between them\n",
    "- Optional: Pick a word and calculate all distances to the other words (order them ascending) - print k\n",
    "\n",
    "### ✅ Expected Output (example):\n",
    "\n",
    "```python\n",
    "Word 1 has distance 0.457234 to Word 2\n",
    "\n",
    "# optional\n",
    "The 3 nearest words to word 1 are:\n",
    "Word 2: 0.0123\n",
    "Word 7: 0.1543\n",
    "Word 4: 0.2872\n",
    "```"
   ]
  },
  {
   "cell_type": "code",
   "execution_count": null,
   "id": "7b250a6a-f042-4eb3-a9b4-c1347f4a9971",
   "metadata": {},
   "outputs": [],
   "source": [
    "# your code goes here"
   ]
  },
  {
   "cell_type": "markdown",
   "id": "52a7dfa4-64f1-42c5-92ba-806a3353f2c1",
   "metadata": {},
   "source": [
    "### 📖 Solution"
   ]
  },
  {
   "cell_type": "code",
   "execution_count": null,
   "id": "a4990f41-134a-426e-97ac-76bb832f7756",
   "metadata": {},
   "outputs": [],
   "source": [
    "from sklearn.metrics.pairwise import euclidean_distances\n",
    "\n",
    "# Get vocabulary\n",
    "vocab = tfidf_vectorizer.get_feature_names_out()\n",
    "vocab_dict = {word: idx for idx, word in enumerate(vocab)}\n",
    "\n",
    "# Pick two words\n",
    "word1 = \"illusion\"\n",
    "word2 = \"rain\"\n",
    "\n",
    "# Ensure both words exist in vocab\n",
    "if word1 in vocab_dict and word2 in vocab_dict:\n",
    "    vec1 = tfidf[:, vocab_dict[word1]].toarray()\n",
    "    vec2 = tfidf[:, vocab_dict[word2]].toarray()\n",
    "    \n",
    "    eucl = euclidean_distances(vec1.T, vec2.T)[0][0]\n",
    "    \n",
    "    print(f\"Euclidean distance between '{word1}' and '{word2}': {eucl:.4f}\")\n",
    "else:\n",
    "    print(\"One of the words is not in the vocabulary.\")"
   ]
  },
  {
   "cell_type": "code",
   "execution_count": null,
   "id": "ae2e1f5b-bc5c-41c0-af11-815870d6c750",
   "metadata": {},
   "outputs": [],
   "source": [
    "# Choose target word\n",
    "target_word = \"rain\"\n",
    "\n",
    "# Ensure word exists\n",
    "if target_word in vocab_dict:\n",
    "    target_vec = tfidf[:, vocab_dict[target_word]].toarray()\n",
    "    \n",
    "    distances = {}\n",
    "    for word in vocab:\n",
    "        if word == target_word:\n",
    "            continue\n",
    "        word_vec = tfidf[:, vocab_dict[word]].toarray()\n",
    "        dist = euclidean_distances(target_vec.T, word_vec.T)[0][0]\n",
    "        distances[word] = dist\n",
    "\n",
    "    # Sort by closest\n",
    "    sorted_words = sorted(distances.items(), key=lambda x: x[1])\n",
    "    \n",
    "    print(f\"\\nTop 5 words closest to '{target_word}' by euclidean distance:\")\n",
    "    for word, dist in sorted_words[:5]:\n",
    "        print(f\"{word}: {dist:.4f}\")\n",
    "else:\n",
    "    print(\"Target word is not in the vocabulary.\")"
   ]
  },
  {
   "cell_type": "markdown",
   "id": "2efc5c91-4cf2-40fd-852b-bd3fa761ec51",
   "metadata": {},
   "source": [
    "## 🧪 Exercise 5: Cosine Similarity Between Texts\n",
    "\n",
    "**Goal:** Find which texts are most similar using vector math\n",
    "\n",
    "**Optional:** Test different Metrics (checkout `sklearn.metrics.pairwise`)\n",
    "\n",
    "**Super Optional:** Compare with preprocessed texts\n",
    "\n",
    "### 🧰 Tools:\n",
    "\n",
    "`cosine_similarity` from `sklearn.metrics.pairwise`\n",
    "\n",
    "`heatmap` from `seaborn`\n",
    "\n",
    "### 💻 Task:\n",
    "- Calculate the Cosine Similarity between all vectors\n",
    "- Print the resulting matrix as a DataFrame.\n",
    "- Create a heatmap to visualize the most similar texts\n",
    "\n",
    "### ✅ Expected Output (example):\n",
    "\n",
    "Heatmap plot of doc simillarity"
   ]
  },
  {
   "cell_type": "code",
   "execution_count": null,
   "id": "f8eb89f8-a45d-41f0-8e70-08cd38fb19e8",
   "metadata": {},
   "outputs": [],
   "source": [
    "# your code goes here"
   ]
  },
  {
   "cell_type": "markdown",
   "id": "1555bdb4-ab88-41dc-930b-2d02d8fc3b97",
   "metadata": {},
   "source": [
    "### 📖 Solution"
   ]
  },
  {
   "cell_type": "code",
   "execution_count": null,
   "id": "d9fe95ce-fd70-4f5a-bbea-d3dcde2fcf10",
   "metadata": {},
   "outputs": [],
   "source": [
    "# TODO: Preprocess vergleich\n",
    "from sklearn.metrics.pairwise import cosine_similarity\n",
    "\n",
    "# Function to plot heatmaps\n",
    "def plot_heatmap(matrix, title, labels):\n",
    "    df = pd.DataFrame(matrix, index=labels, columns=labels)\n",
    "    plt.figure(figsize=(8, 6))\n",
    "    sns.heatmap(df, annot=True, cmap=\"viridis\")\n",
    "    plt.title(title)\n",
    "    plt.show()\n",
    "\n",
    "labels = [f'Doc {i+1}' for i in range(len(docs))]\n",
    "\n",
    "cos_sim = cosine_similarity(X_tfidf)\n",
    "plot_heatmap(cos_sim, \"Cosine Similarity\", labels)"
   ]
  },
  {
   "cell_type": "code",
   "execution_count": null,
   "id": "bfdbd264-228e-4db2-a5d2-826702808afc",
   "metadata": {},
   "outputs": [],
   "source": [
    "# Compute similarity/distance matrices\n",
    "eucl_dist = euclidean_distances(X_tfidf)\n",
    "manh_dist = manhattan_distances(X_tfidf)\n",
    "\n",
    "plot_heatmap(eucl_dist, \"Euclidean Distance\", labels)\n",
    "plot_heatmap(manh_dist, \"Manhattan Distance\", labels)"
   ]
  },
  {
   "cell_type": "markdown",
   "id": "c2b4fc1a-e3bb-4bae-a87c-865001e9dbac",
   "metadata": {},
   "source": [
    "## 🧪 Exercise 6: Full Book Analysis – Frequency & Cosine Similarity\n",
    "\n",
    "**Goal:** Dive into the full text of *The Hitchhiker’s Guide to the Galaxy* to find the most frequent words and analyze text similarity.\n",
    "\n",
    "**Optional:** Calculate the distances from exercise 4 again.\n",
    "\n",
    "\n",
    "### 🧰 Tools:\n",
    "\n",
    "`CountVectorizer`, `TfidfVectorizer` from `sklearn.feature_extraction.text`  \n",
    "\n",
    "`cosine_similarity` from `sklearn.metrics.pairwise`  \n",
    "\n",
    "`seaborn.heatmap`  \n",
    "\n",
    "\n",
    "### 💻 Task:\n",
    "\n",
    "- Load the full text of *The Hitchhiker’s Guide to the Galaxy*.\n",
    "- Split the book into segments (e.g. paragraphs or chunks of N sentences).\n",
    "- Vectorize the segments using TF-IDF.\n",
    "- Compute the cosine similarity between all segments.\n",
    "- Create a heatmap showing segment similarity.\n",
    "- List the top 20 most frequent words in the book.\n",
    "- Calculate the distance again.\n",
    "\n",
    "\n",
    "### ✅ Expected Output (example):\n",
    "\n",
    "- A heatmap showing which parts of the book are most similar  \n",
    "- A DataFrame of cosine similarity values  \n",
    "- A printed list of the top 20 most frequent words  \n"
   ]
  },
  {
   "cell_type": "code",
   "execution_count": null,
   "id": "8f996263-4055-4f6b-a936-fe1498a5c551",
   "metadata": {},
   "outputs": [],
   "source": [
    "# your code goes here"
   ]
  },
  {
   "cell_type": "markdown",
   "id": "cce9d01c-385f-45f2-9d46-c8ee3c72d4d6",
   "metadata": {},
   "source": [
    "### 📖 Solution"
   ]
  },
  {
   "cell_type": "code",
   "execution_count": null,
   "id": "e0e680a4-bb15-463f-993c-62cea55f160b",
   "metadata": {},
   "outputs": [],
   "source": [
    "from sklearn.feature_extraction.text import TfidfVectorizer, CountVectorizer\n",
    "from sklearn.metrics.pairwise import cosine_similarity\n",
    "import re\n",
    "\n",
    "# 1. Load the book (example assumes it's in a .txt file)\n",
    "with open(\"data/guide.txt\", \"r\", encoding=\"utf-8\") as file:\n",
    "    text = file.read()\n",
    "\n",
    "# 3. Split into segments (e.g. every 10 sentences)\n",
    "segments = re.split(r'(?<=[.!?]) +', text)\n",
    "chunk_size = 10\n",
    "chunks = [' '.join(segments[i:i+chunk_size]) for i in range(0, len(segments), chunk_size)]\n",
    "\n",
    "\n",
    "# 4. TF-IDF Vectorization\n",
    "vectorizer = TfidfVectorizer(stop_words='english')\n",
    "X = vectorizer.fit_transform(chunks)\n",
    "\n",
    "# 5. Cosine Similarity\n",
    "cos_sim_matrix = cosine_similarity(X)\n",
    "\n",
    "# 6. Heatmap\n",
    "plt.figure(figsize=(12, 10))\n",
    "sns.heatmap(cos_sim_matrix, cmap=\"coolwarm\")\n",
    "plt.title(\"Cosine Similarity Between Text Segments\")\n",
    "plt.xlabel(\"Segment Index\")\n",
    "plt.ylabel(\"Segment Index\")\n",
    "plt.show()\n",
    "\n",
    "# 7. Most Frequent Words (Bonus)\n",
    "count_vec = CountVectorizer(stop_words='english')\n",
    "word_matrix = count_vec.fit_transform([text])\n",
    "sum_words = word_matrix.sum(axis=0)\n",
    "words_freq = [(word, sum_words[0, idx]) for word, idx in count_vec.vocabulary_.items()]\n",
    "words_freq = sorted(words_freq, key=lambda x: x[1], reverse=True)\n",
    "print(\"Top 20 Most Frequent Words:\")\n",
    "for word, freq in words_freq[:20]:\n",
    "    print(f\"{word}: {freq}\")\n",
    "\n",
    "\n",
    "from sklearn.metrics.pairwise import euclidean_distances\n",
    "\n",
    "# Get vocabulary\n",
    "vocab = vectorizer.get_feature_names_out()\n",
    "vocab_dict = {word: idx for idx, word in enumerate(vocab)}\n",
    "\n",
    "# Pick two words\n",
    "word1 = \"illusion\"\n",
    "word2 = \"rain\"\n",
    "\n",
    "# Ensure both words exist in vocab\n",
    "if word1 in vocab_dict and word2 in vocab_dict:\n",
    "    vec1 = X[:, vocab_dict[word1]].toarray()\n",
    "    vec2 = X[:, vocab_dict[word2]].toarray()\n",
    "    \n",
    "    eucl = euclidean_distances(vec1.T, vec2.T)[0][0]\n",
    "    \n",
    "    print(f\"Euclidean distance between '{word1}' and '{word2}': {eucl:.4f}\")\n",
    "else:\n",
    "    print(\"One of the words is not in the vocabulary.\")\n",
    "\n",
    "\n",
    "# Choose target word\n",
    "target_word = \"rain\"\n",
    "\n",
    "# Ensure word exists\n",
    "if target_word in vocab_dict:\n",
    "    target_vec = X[:, vocab_dict[target_word]].toarray()\n",
    "    \n",
    "    distances = {}\n",
    "    for word in vocab:\n",
    "        if word == target_word:\n",
    "            continue\n",
    "        word_vec = X[:, vocab_dict[word]].toarray()\n",
    "        dist = euclidean_distances(target_vec.T, word_vec.T)[0][0]\n",
    "        distances[word] = dist\n",
    "\n",
    "    # Sort by closest\n",
    "    sorted_words = sorted(distances.items(), key=lambda x: x[1])\n",
    "    \n",
    "    print(f\"\\nTop 5 words closest to '{target_word}' by euclidean distance:\")\n",
    "    for word, dist in sorted_words[:5]:\n",
    "        print(f\"{word}: {dist:.4f}\")\n",
    "else:\n",
    "    print(\"Target word is not in the vocabulary.\")"
   ]
  },
  {
   "cell_type": "code",
   "execution_count": null,
   "id": "131c7823-4c77-4cc6-a04d-83edae2d2d4c",
   "metadata": {},
   "outputs": [],
   "source": []
  }
 ],
 "metadata": {
  "kernelspec": {
   "display_name": "Python 3 (ipykernel)",
   "language": "python",
   "name": "python3"
  },
  "language_info": {
   "codemirror_mode": {
    "name": "ipython",
    "version": 3
   },
   "file_extension": ".py",
   "mimetype": "text/x-python",
   "name": "python",
   "nbconvert_exporter": "python",
   "pygments_lexer": "ipython3",
   "version": "3.9.21"
  }
 },
 "nbformat": 4,
 "nbformat_minor": 5
}
